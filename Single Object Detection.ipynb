{
 "cells": [
  {
   "cell_type": "code",
   "execution_count": 1,
   "metadata": {},
   "outputs": [],
   "source": [
    "import numpy as np\n",
    "import cv2"
   ]
  },
  {
   "cell_type": "code",
   "execution_count": 2,
   "metadata": {},
   "outputs": [],
   "source": [
    "#Lucas Kanade parameters\n",
    "lk_params = dict(winSize=(15, 15), maxLevel=4, criteria=(cv2.TERM_CRITERIA_EPS | cv2.TERM_CRITERIA_COUNT, 10, 0.03))"
   ]
  },
  {
   "cell_type": "code",
   "execution_count": 3,
   "metadata": {},
   "outputs": [],
   "source": [
    "#Capture video from camera number 0 ... camnera number may vary\n",
    "cap = cv2.VideoCapture(0)"
   ]
  },
  {
   "cell_type": "code",
   "execution_count": 4,
   "metadata": {},
   "outputs": [],
   "source": [
    "#create old_frame\n",
    "_,frame = cap.read()\n",
    "old_gray = cv2.cvtColor(frame, cv2.COLOR_BGR2GRAY)"
   ]
  },
  {
   "cell_type": "code",
   "execution_count": 5,
   "metadata": {},
   "outputs": [],
   "source": [
    "#Mouse function\n",
    "#If you press the mouse, \"event\" will be termed as True and the coordinates will be recorded to the variable \"point\"\n",
    "def select_point(event, x, y, flags, params):\n",
    "    \n",
    "    global point, point_selected, old_points\n",
    "    if event == cv2.EVENT_LBUTTONDOWN:\n",
    "        point = (x, y)\n",
    "        point_selected = True\n",
    "        old_points = np.array([[x, y]], dtype=np.float32)"
   ]
  },
  {
   "cell_type": "code",
   "execution_count": 6,
   "metadata": {},
   "outputs": [],
   "source": [
    "#Run the mouse function\n",
    "cv2.namedWindow(\"Frame\")\n",
    "cv2.setMouseCallback(\"Frame\", select_point)\n",
    "old_points = np.array([[]])"
   ]
  },
  {
   "cell_type": "code",
   "execution_count": 7,
   "metadata": {},
   "outputs": [],
   "source": [
    "point_selected = False\n",
    "point = ()"
   ]
  },
  {
   "cell_type": "code",
   "execution_count": 8,
   "metadata": {},
   "outputs": [],
   "source": [
    "while True:\n",
    "    _, frame = cap.read() #Reads the input video give by camera\n",
    "    gray_frame = cv2.cvtColor(frame, cv2.COLOR_BGR2GRAY) #Converts input image to gray frame\n",
    "    \n",
    "    if point_selected is True:\n",
    "        cv2.circle(frame, point, radius=20, color=(0, 0, 255), thickness=2) #Red circle appears when button is pressed\n",
    "        \n",
    "        new_points, status, error = cv2.calcOpticalFlowPyrLK(old_gray, gray_frame, old_points, None, **lk_params)\n",
    "        old_gray = gray_frame.copy()\n",
    "        old_points = new_points\n",
    "        \n",
    "        x, y = new_points.ravel()\n",
    "        cv2.circle(frame, (x, y), 20, (0,255,0), -1) #Trackng circle\n",
    "    \n",
    "    cv2.imshow(\"Frame\", frame) #Prints output to screen\n",
    "    \n",
    "    #Press Esc key to close\n",
    "    key = cv2.waitKey(1)\n",
    "    if key == 27:\n",
    "        break\n",
    "        \n",
    "cap.release()\n",
    "cv2.destroyAllWindows()"
   ]
  },
  {
   "cell_type": "code",
   "execution_count": null,
   "metadata": {},
   "outputs": [],
   "source": []
  }
 ],
 "metadata": {
  "kernelspec": {
   "display_name": "Python 3",
   "language": "python",
   "name": "python3"
  },
  "language_info": {
   "codemirror_mode": {
    "name": "ipython",
    "version": 3
   },
   "file_extension": ".py",
   "mimetype": "text/x-python",
   "name": "python",
   "nbconvert_exporter": "python",
   "pygments_lexer": "ipython3",
   "version": "3.6.9"
  }
 },
 "nbformat": 4,
 "nbformat_minor": 4
}
